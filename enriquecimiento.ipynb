{
 "cells": [
  {
   "cell_type": "code",
   "execution_count": 1,
   "id": "2f6e1805",
   "metadata": {},
   "outputs": [],
   "source": [
    "%matplotlib inline\n",
    "import pandas as pd"
   ]
  },
  {
   "cell_type": "markdown",
   "id": "9940ec02",
   "metadata": {},
   "source": [
    "## Expand data"
   ]
  },
  {
   "cell_type": "code",
   "execution_count": 2,
   "id": "b49edf88",
   "metadata": {},
   "outputs": [],
   "source": [
    "compras_df = pd.read_csv('./data/clean_compras.csv')"
   ]
  },
  {
   "cell_type": "code",
   "execution_count": 3,
   "id": "38b468a0",
   "metadata": {},
   "outputs": [
    {
     "data": {
      "text/plain": [
       "NUM BEN           int64\n",
       "BENEFICIARIO     object\n",
       "RFC              object\n",
       "FACTURA          object\n",
       "CONTRATO         object\n",
       "CONCEPTO         object\n",
       "TIPO             object\n",
       "# OP            float64\n",
       "FECHA            object\n",
       "IMPORTE         float64\n",
       "SHEET            object\n",
       "dtype: object"
      ]
     },
     "execution_count": 3,
     "metadata": {},
     "output_type": "execute_result"
    }
   ],
   "source": [
    "compras_df.dtypes"
   ]
  },
  {
   "cell_type": "code",
   "execution_count": 5,
   "id": "903aa837",
   "metadata": {},
   "outputs": [],
   "source": [
    "compras_df['FECHA'] = pd.to_datetime(compras_df['FECHA'])"
   ]
  },
  {
   "cell_type": "code",
   "execution_count": 6,
   "id": "ff3008b7",
   "metadata": {},
   "outputs": [],
   "source": [
    "compras_df['DAY'] = compras_df['FECHA'].dt.day"
   ]
  },
  {
   "cell_type": "code",
   "execution_count": 7,
   "id": "140b8183",
   "metadata": {},
   "outputs": [],
   "source": [
    "compras_df['MONTH'] = compras_df['FECHA'].dt.month"
   ]
  },
  {
   "cell_type": "code",
   "execution_count": 8,
   "id": "e4f47e18",
   "metadata": {},
   "outputs": [],
   "source": [
    "compras_df['YEAR'] = compras_df['FECHA'].dt.year"
   ]
  },
  {
   "cell_type": "markdown",
   "id": "7cc02d1e",
   "metadata": {},
   "source": [
    "## Project variable between each other"
   ]
  },
  {
   "cell_type": "markdown",
   "id": "0716f330",
   "metadata": {},
   "source": [
    "## We bring extra data to enrich using linkedin"
   ]
  }
 ],
 "metadata": {
  "kernelspec": {
   "display_name": "cscourseproject",
   "language": "python",
   "name": "python3"
  },
  "language_info": {
   "codemirror_mode": {
    "name": "ipython",
    "version": 3
   },
   "file_extension": ".py",
   "mimetype": "text/x-python",
   "name": "python",
   "nbconvert_exporter": "python",
   "pygments_lexer": "ipython3",
   "version": "3.13.2"
  }
 },
 "nbformat": 4,
 "nbformat_minor": 5
}
