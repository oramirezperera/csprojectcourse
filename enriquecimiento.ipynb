{
 "cells": [
  {
   "cell_type": "code",
   "execution_count": 1,
   "id": "2f6e1805",
   "metadata": {},
   "outputs": [],
   "source": [
    "%matplotlib inline\n",
    "import pandas as pd"
   ]
  },
  {
   "cell_type": "markdown",
   "id": "9940ec02",
   "metadata": {},
   "source": [
    "## Expand data"
   ]
  },
  {
   "cell_type": "code",
   "execution_count": 2,
   "id": "b49edf88",
   "metadata": {},
   "outputs": [],
   "source": [
    "compras_df = pd.read_csv('./data/clean_compras.csv')"
   ]
  },
  {
   "cell_type": "code",
   "execution_count": 3,
   "id": "38b468a0",
   "metadata": {},
   "outputs": [
    {
     "data": {
      "text/plain": [
       "NUM BEN           int64\n",
       "BENEFICIARIO     object\n",
       "RFC              object\n",
       "FACTURA          object\n",
       "CONTRATO         object\n",
       "CONCEPTO         object\n",
       "TIPO             object\n",
       "# OP            float64\n",
       "FECHA            object\n",
       "IMPORTE         float64\n",
       "SHEET            object\n",
       "dtype: object"
      ]
     },
     "execution_count": 3,
     "metadata": {},
     "output_type": "execute_result"
    }
   ],
   "source": [
    "compras_df.dtypes"
   ]
  },
  {
   "cell_type": "code",
   "execution_count": 5,
   "id": "903aa837",
   "metadata": {},
   "outputs": [],
   "source": [
    "compras_df['FECHA'] = pd.to_datetime(compras_df['FECHA'])"
   ]
  },
  {
   "cell_type": "code",
   "execution_count": 6,
   "id": "ff3008b7",
   "metadata": {},
   "outputs": [],
   "source": [
    "compras_df['DAY'] = compras_df['FECHA'].dt.day"
   ]
  },
  {
   "cell_type": "code",
   "execution_count": 7,
   "id": "140b8183",
   "metadata": {},
   "outputs": [],
   "source": [
    "compras_df['MONTH'] = compras_df['FECHA'].dt.month"
   ]
  },
  {
   "cell_type": "code",
   "execution_count": 8,
   "id": "e4f47e18",
   "metadata": {},
   "outputs": [],
   "source": [
    "compras_df['YEAR'] = compras_df['FECHA'].dt.year"
   ]
  },
  {
   "cell_type": "markdown",
   "id": "7cc02d1e",
   "metadata": {},
   "source": [
    "## Project variable between each other"
   ]
  },
  {
   "cell_type": "code",
   "execution_count": 9,
   "id": "556f06e6",
   "metadata": {},
   "outputs": [],
   "source": [
    "beneficiario_sales = compras_df['BENEFICIARIO'].value_counts().to_dict()"
   ]
  },
  {
   "cell_type": "code",
   "execution_count": 11,
   "id": "9116342c",
   "metadata": {},
   "outputs": [
    {
     "data": {
      "text/plain": [
       "['CAMARA MEXICANA DE LA INDUSTRIA DE LA CONSTRUCCION',\n",
       " 'AUTOKAM REGIOMONTANA,S.A.DE C.V.',\n",
       " 'CAR ONE MONTERREY, S.A. DE C.V.',\n",
       " 'PEREZ RIOS RAMIRO',\n",
       " 'S.I.M.E.P.R.O.D.E.']"
      ]
     },
     "execution_count": 11,
     "metadata": {},
     "output_type": "execute_result"
    }
   ],
   "source": [
    "list(beneficiario_sales.keys())[0:5]"
   ]
  },
  {
   "cell_type": "code",
   "execution_count": 13,
   "id": "235a3779",
   "metadata": {},
   "outputs": [],
   "source": [
    "compras_df['BENEFICIARIO_SALES'] = compras_df['BENEFICIARIO'].apply(lambda x: beneficiario_sales[x])"
   ]
  },
  {
   "cell_type": "code",
   "execution_count": 14,
   "id": "91eb375a",
   "metadata": {},
   "outputs": [],
   "source": [
    "sheet_mean_compras = compras_df.groupby('SHEET')['IMPORTE'].mean()"
   ]
  },
  {
   "cell_type": "code",
   "execution_count": 15,
   "id": "d88b54bb",
   "metadata": {},
   "outputs": [
    {
     "data": {
      "text/plain": [
       "{'COMUNICACION': 109705.34366197183,\n",
       " 'CONTRATISTAS Y FDO FED': 474566.76578729285,\n",
       " 'GASTOS VARIOS': 881659.7317971016,\n",
       " 'SERV PPROF': 229592.16666666666,\n",
       " 'SERV. PERS.': 59623.40521739131}"
      ]
     },
     "execution_count": 15,
     "metadata": {},
     "output_type": "execute_result"
    }
   ],
   "source": [
    "sheet_mean_compras.to_dict()"
   ]
  },
  {
   "cell_type": "code",
   "execution_count": 16,
   "id": "e87b90a1",
   "metadata": {},
   "outputs": [],
   "source": [
    "compras_df['IMPORTE_GASTO_PROMEDIO'] = compras_df['SHEET'].apply(lambda x: sheet_mean_compras[x])"
   ]
  },
  {
   "cell_type": "markdown",
   "id": "0716f330",
   "metadata": {},
   "source": [
    "## We bring extra data to enrich using linkedin"
   ]
  },
  {
   "cell_type": "code",
   "execution_count": 17,
   "id": "a4adf9fc",
   "metadata": {},
   "outputs": [],
   "source": [
    "pd.DataFrame(compras_df['BENEFICIARIO'].unique()).to_csv('./data/unique_beneficiario.csv')"
   ]
  },
  {
   "cell_type": "code",
   "execution_count": 19,
   "id": "903a4b37",
   "metadata": {},
   "outputs": [
    {
     "data": {
      "text/html": [
       "<div>\n",
       "<style scoped>\n",
       "    .dataframe tbody tr th:only-of-type {\n",
       "        vertical-align: middle;\n",
       "    }\n",
       "\n",
       "    .dataframe tbody tr th {\n",
       "        vertical-align: top;\n",
       "    }\n",
       "\n",
       "    .dataframe thead th {\n",
       "        text-align: right;\n",
       "    }\n",
       "</style>\n",
       "<table border=\"1\" class=\"dataframe\">\n",
       "  <thead>\n",
       "    <tr style=\"text-align: right;\">\n",
       "      <th></th>\n",
       "      <th>url</th>\n",
       "      <th>description</th>\n",
       "      <th>title</th>\n",
       "      <th>query</th>\n",
       "      <th>timestamp</th>\n",
       "      <th>error</th>\n",
       "    </tr>\n",
       "  </thead>\n",
       "  <tbody>\n",
       "    <tr>\n",
       "      <th>0</th>\n",
       "      <td>https://www.linkedin.com/in/rosa-lorena-valdez...</td>\n",
       "      <td>Ve el perfil de Rosa Lorena Valdez Miranda en ...</td>\n",
       "      <td>Rosa Lorena Valdez Miranda - Analista de Deuda...</td>\n",
       "      <td>Rosa Lorena Valdez Miranda</td>\n",
       "      <td>2021-03-08T13:06:25.587Z</td>\n",
       "      <td>NaN</td>\n",
       "    </tr>\n",
       "    <tr>\n",
       "      <th>1</th>\n",
       "      <td>https://www.linkedin.com/in/roque-ya%C3%B1ez-r...</td>\n",
       "      <td>Ve el perfil de Roque Yañez Ramos en LinkedIn,...</td>\n",
       "      <td>Roque Yañez Ramos - Síndico Primero - Gobierno...</td>\n",
       "      <td>Roque Yañez Ramos</td>\n",
       "      <td>2021-03-08T13:06:52.599Z</td>\n",
       "      <td>NaN</td>\n",
       "    </tr>\n",
       "    <tr>\n",
       "      <th>2</th>\n",
       "      <td>https://www.linkedin.com/in/perla-cordova-vill...</td>\n",
       "      <td>Ve el perfil de Perla Cordova Villegas en Link...</td>\n",
       "      <td>Perla Cordova Villegas - Profesor de Tiempo Co...</td>\n",
       "      <td>Laura Perla Cordova Rodriguez</td>\n",
       "      <td>2021-03-08T13:07:18.940Z</td>\n",
       "      <td>NaN</td>\n",
       "    </tr>\n",
       "    <tr>\n",
       "      <th>3</th>\n",
       "      <td>https://www.linkedin.com/in/lauren-coronado-b3...</td>\n",
       "      <td>View Lauren Coronado’s profile on LinkedIn, th...</td>\n",
       "      <td>Lauren Coronado - Substitute Teacher - IRVING ...</td>\n",
       "      <td>Rosa Ofelia Coronado Flores</td>\n",
       "      <td>2021-03-08T13:07:45.390Z</td>\n",
       "      <td>NaN</td>\n",
       "    </tr>\n",
       "    <tr>\n",
       "      <th>4</th>\n",
       "      <td>https://www.linkedin.com/in/alvaro-palomo</td>\n",
       "      <td>Ve el perfil de Alvaro Palomo Osuna en LinkedI...</td>\n",
       "      <td>Alvaro Palomo Osuna - Jefe de proyecto .NET - ...</td>\n",
       "      <td>Alvaro Flores Palomo</td>\n",
       "      <td>2021-03-08T13:08:11.744Z</td>\n",
       "      <td>NaN</td>\n",
       "    </tr>\n",
       "  </tbody>\n",
       "</table>\n",
       "</div>"
      ],
      "text/plain": [
       "                                                 url  \\\n",
       "0  https://www.linkedin.com/in/rosa-lorena-valdez...   \n",
       "1  https://www.linkedin.com/in/roque-ya%C3%B1ez-r...   \n",
       "2  https://www.linkedin.com/in/perla-cordova-vill...   \n",
       "3  https://www.linkedin.com/in/lauren-coronado-b3...   \n",
       "4          https://www.linkedin.com/in/alvaro-palomo   \n",
       "\n",
       "                                         description  \\\n",
       "0  Ve el perfil de Rosa Lorena Valdez Miranda en ...   \n",
       "1  Ve el perfil de Roque Yañez Ramos en LinkedIn,...   \n",
       "2  Ve el perfil de Perla Cordova Villegas en Link...   \n",
       "3  View Lauren Coronado’s profile on LinkedIn, th...   \n",
       "4  Ve el perfil de Alvaro Palomo Osuna en LinkedI...   \n",
       "\n",
       "                                               title  \\\n",
       "0  Rosa Lorena Valdez Miranda - Analista de Deuda...   \n",
       "1  Roque Yañez Ramos - Síndico Primero - Gobierno...   \n",
       "2  Perla Cordova Villegas - Profesor de Tiempo Co...   \n",
       "3  Lauren Coronado - Substitute Teacher - IRVING ...   \n",
       "4  Alvaro Palomo Osuna - Jefe de proyecto .NET - ...   \n",
       "\n",
       "                           query                 timestamp error  \n",
       "0     Rosa Lorena Valdez Miranda  2021-03-08T13:06:25.587Z   NaN  \n",
       "1              Roque Yañez Ramos  2021-03-08T13:06:52.599Z   NaN  \n",
       "2  Laura Perla Cordova Rodriguez  2021-03-08T13:07:18.940Z   NaN  \n",
       "3    Rosa Ofelia Coronado Flores  2021-03-08T13:07:45.390Z   NaN  \n",
       "4           Alvaro Flores Palomo  2021-03-08T13:08:11.744Z   NaN  "
      ]
     },
     "execution_count": 19,
     "metadata": {},
     "output_type": "execute_result"
    }
   ],
   "source": [
    "# Loading\n",
    "linkedin_mty = pd.read_csv('./data/linkedin_mty.csv')\n",
    "linkedin_mty.head()"
   ]
  },
  {
   "cell_type": "code",
   "execution_count": 20,
   "id": "89a7c991",
   "metadata": {},
   "outputs": [],
   "source": [
    "has_site = {}\n",
    "for i, ele in linkedin_mty.fillna(True).iterrows():\n",
    "    has_site[ele['query']] = True if ele['error'] == True else False"
   ]
  },
  {
   "cell_type": "code",
   "execution_count": 22,
   "id": "7d52d5a2",
   "metadata": {},
   "outputs": [],
   "source": [
    "compras_df['HAS_LINKEDIN_SITE'] = compras_df['BENEFICIARIO'].apply(lambda x: has_site[x.replace('  ', ' ')])"
   ]
  },
  {
   "cell_type": "code",
   "execution_count": 24,
   "id": "9a386616",
   "metadata": {},
   "outputs": [
    {
     "data": {
      "text/plain": [
       "HAS_LINKEDIN_SITE\n",
       "True     1392\n",
       "False     148\n",
       "Name: count, dtype: int64"
      ]
     },
     "execution_count": 24,
     "metadata": {},
     "output_type": "execute_result"
    }
   ],
   "source": [
    "compras_df['HAS_LINKEDIN_SITE'].value_counts()"
   ]
  },
  {
   "cell_type": "code",
   "execution_count": 25,
   "id": "f864b0ca",
   "metadata": {},
   "outputs": [],
   "source": [
    "compras_df.to_csv('./data/compras_df_enriched.csv', index=None)"
   ]
  }
 ],
 "metadata": {
  "kernelspec": {
   "display_name": "cscourseproject",
   "language": "python",
   "name": "python3"
  },
  "language_info": {
   "codemirror_mode": {
    "name": "ipython",
    "version": 3
   },
   "file_extension": ".py",
   "mimetype": "text/x-python",
   "name": "python",
   "nbconvert_exporter": "python",
   "pygments_lexer": "ipython3",
   "version": "3.13.2"
  }
 },
 "nbformat": 4,
 "nbformat_minor": 5
}
