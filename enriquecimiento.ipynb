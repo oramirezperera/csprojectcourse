{
 "cells": [
  {
   "cell_type": "code",
   "execution_count": null,
   "id": "2f6e1805",
   "metadata": {},
   "outputs": [],
   "source": [
    "%matplotlib inline\n",
    "import pandas as pd"
   ]
  }
 ],
 "metadata": {
  "language_info": {
   "name": "python"
  }
 },
 "nbformat": 4,
 "nbformat_minor": 5
}
